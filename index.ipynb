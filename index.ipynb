{
 "cells": [
  {
   "cell_type": "code",
   "execution_count": 1,
   "metadata": {
    "extensions": {
     "jupyter_dashboards": {
      "version": 1,
      "views": {
       "grid_default": {
        "hidden": true
       },
       "report_default": {
        "hidden": true
       }
      }
     }
    },
    "pycharm": {
     "name": "#%%\n"
    }
   },
   "outputs": [],
   "source": [
    "import collections\n",
    "import csv\n",
    "import logging\n",
    "import os\n",
    "import re\n",
    "from typing import Iterable, Any, Callable, Optional\n",
    "\n",
    "import dateparser\n",
    "import pandas as pd\n",
    "from IPython.display import display\n",
    "from ipywidgets import FileUpload, widgets\n",
    "from rich.jupyter import print\n",
    "logging.getLogger().setLevel(logging.DEBUG)\n",
    "log = logging.getLogger()\n",
    "\n",
    "cache_dir = \"./.cache\"\n",
    "if not os.path.exists(cache_dir):\n",
    "    os.makedirs(cache_dir)\n",
    "from diskcache import Cache\n",
    "cache = Cache(os.path.join(cache_dir, \"diskcache\"))\n"
   ]
  },
  {
   "cell_type": "code",
   "execution_count": 2,
   "metadata": {
    "extensions": {
     "jupyter_dashboards": {
      "version": 1,
      "views": {
       "grid_default": {
        "hidden": true
       },
       "report_default": {
        "hidden": true
       }
      }
     }
    },
    "pycharm": {
     "name": "#%%\n"
    }
   },
   "outputs": [
    {
     "name": "stderr",
     "output_type": "stream",
     "text": [
      "[nltk_data] Downloading package punkt to /home/markus/nltk_data...\n",
      "[nltk_data]   Package punkt is already up-to-date!\n",
      "[nltk_data] Downloading package stopwords to /home/markus/nltk_data...\n",
      "[nltk_data]   Package stopwords is already up-to-date!\n"
     ]
    }
   ],
   "source": [
    "import nltk\n",
    "from nltk.corpus import stopwords as st\n",
    "\n",
    "def create_sources_data_frame(data=None):\n",
    "    sources = pd.DataFrame(data, columns=['file_name', 'date'])\n",
    "    sources.set_index('file_name', inplace=True)\n",
    "\n",
    "    return sources\n",
    "\n",
    "sources = create_sources_data_frame()\n",
    "all_uploaded_files = {}\n",
    "\n",
    "nltk.download('punkt')\n",
    "nltk.download('stopwords')\n",
    "\n",
    "ital_stopwords = st.words('italian')\n",
    "en_stopwords = st.words('english')\n",
    "\n",
    "stopwords = []\n"
   ]
  },
  {
   "cell_type": "code",
   "execution_count": 3,
   "metadata": {
    "extensions": {
     "jupyter_dashboards": {
      "version": 1,
      "views": {
       "grid_default": {
        "hidden": true
       },
       "report_default": {
        "hidden": true
       }
      }
     }
    },
    "pycharm": {
     "name": "#%%\n"
    }
   },
   "outputs": [],
   "source": [
    "# widgets\n",
    "input_widgets = widgets.Output()\n",
    "input_details_widget = widgets.Output()\n",
    "data_widget = widgets.Output()\n",
    "\n",
    "start_input_processing_button = widgets.Button(description=\"Process input\", disabled=True)\n",
    "\n",
    "upload_data = FileUpload(accept=\".txt\", multiple=True)\n",
    "upload_stopword = FileUpload(accept=\".csv\", multiple=False)\n",
    "dates = [pd.Timestamp.now(), pd.Timestamp.now()]\n",
    "options = [(date.strftime(' %d %b %Y '), date) for date in dates]\n",
    "index = (0, len(options)-1)\n",
    "selection_range_slider = widgets.SelectionRangeSlider(\n",
    "    options=options,\n",
    "    index=index,\n",
    "    description='Dates',\n",
    "    orientation='horizontal',\n",
    "    layout={'width': '500px'},\n",
    "    continuous_update=False\n",
    ")\n",
    "selection_range_slider.disabled = True\n",
    "\n",
    "options = []\n",
    "text_preview_select_widget = widgets.Dropdown(\n",
    "    # placeholder='Choose Someone',\n",
    "    options=[\"No sources yet...\"],\n",
    "    description='Select the item to use for preview:',\n",
    "    disabled=True\n",
    ")\n",
    "\n",
    "preview_button = widgets.Button(description=\"Preview\")\n",
    "\n",
    "filtered_table = widgets.Output()"
   ]
  },
  {
   "cell_type": "code",
   "execution_count": 4,
   "metadata": {
    "extensions": {
     "jupyter_dashboards": {
      "version": 1,
      "views": {
       "grid_default": {
        "hidden": true
       },
       "report_default": {
        "hidden": true
       }
      }
     }
    },
    "pycharm": {
     "name": "#%%\n"
    }
   },
   "outputs": [],
   "source": [
    "# pre-processing utils\n",
    "class ProcessingStep(object):\n",
    "\n",
    "    def __init__(self, task_name: str, process_function: Callable, always_enabled: bool=False):\n",
    "\n",
    "        self._always_enabled: bool = always_enabled\n",
    "        self._process_function = process_function\n",
    "        self._checkbox = widgets.Checkbox(description=task_name)\n",
    "        if self._always_enabled:\n",
    "            self._checkbox.value = True\n",
    "            self._checkbox.disabled = True\n",
    "        self._textbox = widgets.Textarea(value=\"\", layout=widgets.Layout(height=\"150px\"))\n",
    "        self._textbox.disabled = True\n",
    "\n",
    "        self._container = widgets.VBox((self._checkbox, self._textbox))\n",
    "\n",
    "        self._result: Any = None\n",
    "        self._next: Optional[ProcessingStep] = None\n",
    "\n",
    "    def disable(self, disable: bool):\n",
    "\n",
    "        if disable:\n",
    "            self._checkbox.disabled = True\n",
    "        elif not self._always_enabled:\n",
    "                self._checkbox.disabled = False\n",
    "\n",
    "    @property\n",
    "    def container(self):\n",
    "\n",
    "        return self._container\n",
    "\n",
    "    def clear(self):\n",
    "\n",
    "        self._textbox.value = \"\"\n",
    "\n",
    "    @property\n",
    "    def next_step(self):\n",
    "        return self._next\n",
    "\n",
    "    @next_step.setter\n",
    "    def next_step(self, next_step: \"ProcessingStep\"):\n",
    "        self._next = next_step\n",
    "\n",
    "    def process(self, input_value: Any):\n",
    "\n",
    "        if input_value is None:\n",
    "            return\n",
    "\n",
    "        if not self._checkbox.value:\n",
    "            self._result = input_value\n",
    "            self._textbox.value = \"-- not enabled --\"\n",
    "\n",
    "            if self._next:\n",
    "                return self._next.process(self._result)\n",
    "            else:\n",
    "                return self._result\n",
    "\n",
    "        self._textbox.value = \"-- processing --\"\n",
    "\n",
    "        self._result = self._process_function(input_value)\n",
    "\n",
    "        if isinstance(self._result, str):\n",
    "            result_string = self._result\n",
    "        elif isinstance(self._result, collections.abc.Iterable):\n",
    "            result_string = \"\\n\".join(self._result)\n",
    "        else:\n",
    "            result_string = str(self._result)\n",
    "\n",
    "        self._textbox.value = result_string\n",
    "\n",
    "        if self._next:\n",
    "            return self._next.process(self._result)\n",
    "        else:\n",
    "            return self._result\n",
    "\n",
    "\n",
    "class ProcessingStepSource(ProcessingStep):\n",
    "\n",
    "    def __init__(self):\n",
    "\n",
    "        self._source = None\n",
    "\n",
    "        super().__init__(task_name=\"Source\", process_function=self._source_func, always_enabled=True)\n",
    "\n",
    "    def start(self):\n",
    "\n",
    "        if self._source is None or self._next is None:\n",
    "            return\n",
    "\n",
    "        return self._next.process(self._source)\n",
    "\n",
    "    def set_source(self, source):\n",
    "\n",
    "        self._source = source\n",
    "        self._textbox.value = str(source)\n",
    "\n",
    "    def _source_func(self, input_value):\n",
    "        return self._source\n",
    "\n",
    "\n",
    "class ProcessingPipeline(object):\n",
    "\n",
    "    def __init__(self, *steps: ProcessingStep):\n",
    "\n",
    "        self._steps: Iterable[ProcessingStep] = steps\n",
    "        child_containers = []\n",
    "        previous: ProcessingStep = None\n",
    "        for step in self._steps:\n",
    "            child_containers.append(step.container)\n",
    "            if previous is not None:\n",
    "                previous.next_step = step\n",
    "            previous = step\n",
    "        self._container = widgets.HBox([s.container for s in self._steps])\n",
    "\n",
    "    @property\n",
    "    def container(self):\n",
    "        return self._container\n",
    "\n",
    "    def set_source(self, source: Any):\n",
    "\n",
    "        self._steps[0].set_source(source)\n",
    "        for step in self._steps[1:]:\n",
    "            step.clear()\n",
    "\n",
    "    def process(self):\n",
    "\n",
    "        for step in self._steps:\n",
    "            step.disable(True)\n",
    "\n",
    "        self._steps[0].start()\n",
    "\n",
    "        for step in self._steps:\n",
    "            step.disable(False)\n",
    "\n",
    "\n",
    "def generate_preprocessing_preview_pipeline() -> ProcessingPipeline:\n",
    "\n",
    "    def process(input_value: Any):\n",
    "\n",
    "        return input_value + \"_\" + input_value\n",
    "\n",
    "    s_source = ProcessingStepSource()\n",
    "    s_tokenize = ProcessingStep(task_name=\"Tokenize\", process_function=nltk.wordpunct_tokenize, always_enabled=True)\n",
    "    s_lowercase = ProcessingStep(task_name=\"Lowercase\", process_function=lambda x: [w.lower() for w in x if (w.isalpha() and len(w) > 2 )], always_enabled=False)\n",
    "    s_stopwords = ProcessingStep(task_name=\"Remove stopwords\", process_function=lambda x: [w for w in x if not w in stopwords], always_enabled=False)\n",
    "\n",
    "    pp = ProcessingPipeline(s_source, s_tokenize, s_lowercase, s_stopwords)\n",
    "    return pp\n",
    "\n",
    "preview_processing_pipeline = generate_preprocessing_preview_pipeline()\n",
    "\n",
    "# helper methods\n",
    "def input_is_ready() -> bool:\n",
    "\n",
    "    return len(sources) > 0 and len(stopwords) > 0\n",
    "\n",
    "def disable_input(disable: bool):\n",
    "\n",
    "    if disable:\n",
    "        selection_range_slider.disabled = True\n",
    "        upload_data.disabled = True\n",
    "        upload_stopword.disabled = True\n",
    "        start_input_processing_button.disabled = True\n",
    "\n",
    "    else:\n",
    "        ready = input_is_ready()\n",
    "        start_input_processing_button.disabled = not ready\n",
    "        if len(sources) > 0:\n",
    "            selection_range_slider.disabled = False\n",
    "        else:\n",
    "            selection_range_slider.disabled = True\n",
    "\n",
    "        upload_data.disabled = False\n",
    "        upload_stopword.disabled = False\n",
    "\n",
    "# event-handling methods\n",
    "def refresh_input_details():\n",
    "\n",
    "    disable_input(False)\n",
    "\n",
    "    start_date = selection_range_slider.value[0]\n",
    "    end_date = selection_range_slider.value[1] + pd.DateOffset(months=1) - pd.Timedelta(seconds=1)\n",
    "\n",
    "    filtered_sources = sources[(sources['date']>=start_date) & (sources['date']<=end_date)]\n",
    "\n",
    "    text_preview_select_widget.options = tuple(sources.index.values)\n",
    "    text_preview_select_widget.disabled = False\n",
    "\n",
    "    input_details_widget.clear_output()\n",
    "    with input_details_widget:\n",
    "        display(widgets.HTML(value=\"<h3>Input information</h3>\"))\n",
    "        color_start = \"\"\n",
    "        color_end = \"\"\n",
    "        if not len(filtered_sources):\n",
    "            color_start = \"[red bold]\"\n",
    "            color_end = \"[/]\"\n",
    "        print(f\"{color_start}Number of selected datasets: {len(filtered_sources)}{color_end}\")\n",
    "        color_start = \"\"\n",
    "        color_end = \"\"\n",
    "        if not len(stopwords):\n",
    "            color_start = \"[red bold]\"\n",
    "            color_end = \"[/]\"\n",
    "        print(f\"{color_start}Number of stopwords: {len(stopwords)}{color_end}\")\n",
    "\n",
    "        display(widgets.HTML(value=\"<h3>Pre-processing steps</h3>\"))\n",
    "        display(text_preview_select_widget)\n",
    "        display(preview_processing_pipeline.container)\n",
    "        display(preview_button)\n",
    "        display(widgets.HTML(value=\"<h3>Corpus time-frame</h3>\"))\n",
    "        print(\"Select the timeframe to use for processing:\")\n",
    "        display(selection_range_slider)\n",
    "        display(widgets.HTML(value=\"<h3>Pre-process</h3>\"))\n",
    "\n",
    "        display(start_input_processing_button)\n",
    "\n",
    "def extract_date(file_details):\n",
    "\n",
    "    file_name = file_details['metadata']['name']\n",
    "    _date = dateparser.parse(file_name.split(\"_\")[1], settings={'TIMEZONE': 'Europe/Berlin'})\n",
    "    return (file_name, _date)\n",
    "\n",
    "def prepare_data_for_file(row):\n",
    "\n",
    "    file_name = row.name\n",
    "\n",
    "    result = process_file_content(file_name)\n",
    "    result[\"date\"] = row.date\n",
    "\n",
    "    ref = re.findall(r'(\\w+\\d+)_\\d{4}-\\d{2}-\\d{2}_', file_name)[0]\n",
    "    if (ref == 'sn85066408'):\n",
    "        pub_name = 'L\\'Italia'\n",
    "    elif (ref == '2012271201'):\n",
    "        pub_name = 'Cronaca Sovversiva'\n",
    "    else:\n",
    "        pub_name = None\n",
    "\n",
    "    result[\"ref\"] = ref\n",
    "    result[\"pub_name\"] = pub_name\n",
    "    return result\n",
    "\n",
    "@cache.memoize(typed=True, tag=\"tokenize\")\n",
    "def process_file_content(file_name):\n",
    "\n",
    "    log.debug(f\"computing: {file_name}\")\n",
    "\n",
    "    content_bytes = all_uploaded_files[file_name]['content']\n",
    "    content = ' ' + str(content_bytes, 'utf-8').replace('\\n', ' ') + ' '\n",
    "\n",
    "    tokenized = nltk.word_tokenize(content)  # TODO: language italian?\n",
    "    doc_prep = [w.lower() for w in tokenized if (w.isalpha() and len(w) > 2 )]\n",
    "    doc_prep_nonstop = [w for w in doc_prep if not w in stopwords]\n",
    "\n",
    "    result = {\"text\": content[0:20], \"tokenized\": tokenized, \"doc_prep\": doc_prep, \"doc_prep_nonstop\": doc_prep_nonstop}\n",
    "    log.debug(f\"finished computing: {file_name}\")\n",
    "    return result\n",
    "\n",
    "def get_filtered_df(start_date, end_date):\n",
    "    # we only read the files in the timeframe we are interested in\n",
    "\n",
    "    # df[\"text\"] = sources.text.astype(str)\n",
    "    # df[\"tokenized\"] = sources.tokenized.astype('object')\n",
    "    # df[\"doc_prep\"] = sources.doc_prep.astype('object')\n",
    "    # df[\"doc_prep_nonstop\"] = sources.doc_prep_nonstop.astype('object')\n",
    "\n",
    "    processed_data = sources[(sources['date']>=start_date) & (sources['date']<=end_date)].apply(lambda x: prepare_data_for_file(x), axis=1)\n",
    "    df = pd.DataFrame(processed_data.to_list(), index=processed_data.index)\n",
    "    return df\n",
    "\n",
    "    # for k, v in processed_data.items():\n",
    "    #     if not v:\n",
    "    #         continue\n",
    "    #\n",
    "    #     df.at[k, 'text'] = v['text']\n",
    "    #     df.at[k, 'tokenized'] = v['tokenized']\n",
    "    #     df.at[k, 'doc_prep'] = v['doc_prep']\n",
    "    #     df.at[k, 'doc_prep_nonstop'] = v['doc_prep_nonstop']\n",
    "    #\n",
    "    # return df\n",
    "\n",
    "\n",
    "def display_update(start_date, end_date):\n",
    "\n",
    "    df = get_filtered_df(start_date, end_date)\n",
    "    filtered_table.clear_output()\n",
    "    with filtered_table:\n",
    "        display(df.describe())\n",
    "        display(df)\n",
    "\n",
    "def date_range_change_handler(change):\n",
    "\n",
    "    disable_input(True)\n",
    "    # print(change.new)\n",
    "\n",
    "    # start_date = change.new[0]\n",
    "    # end_date = change.new[1]\n",
    "\n",
    "    refresh_input_details()\n",
    "\n",
    "\n",
    "def input_file_change_handler(change):\n",
    "\n",
    "    # upload_data.disabled = True\n",
    "    disable_input(True)\n",
    "\n",
    "    data = {}\n",
    "    for file_details in change.new.values():\n",
    "        file_id, _date = extract_date(file_details)\n",
    "        data[file_id] = _date\n",
    "        all_uploaded_files[file_id] = file_details\n",
    "\n",
    "    for file_id, _date in data.items():\n",
    "        if file_id in sources:\n",
    "            log.error(f\"Duplicate file: {file_id}\")\n",
    "            continue\n",
    "\n",
    "        sources.loc[file_id] = (_date,)\n",
    "\n",
    "    min_date = min(sources['date']) - pd.DateOffset(months=1)\n",
    "    max_date = max(sources['date'])\n",
    "\n",
    "    dates = pd.date_range(min_date, max_date, freq='MS')\n",
    "    if len(dates) == 1:\n",
    "        dates = (dates[0], dates[0])\n",
    "\n",
    "    options = [(date.strftime(' %b %Y '), date) for date in dates]\n",
    "\n",
    "    selection_range_slider.options = options\n",
    "    selection_range_slider.index = (0, len(options)-1)\n",
    "\n",
    "    upload_data.value.clear()\n",
    "    upload_data._counter = 0\n",
    "\n",
    "    refresh_input_details()\n",
    "\n",
    "    # upload_data.disabled = False\n",
    "\n",
    "\n",
    "def stopwords_input_change_handler(change):\n",
    "\n",
    "    disable_input(True)\n",
    "\n",
    "    stopwords.clear()\n",
    "    stopword_content = upload_stopword.data[0]\n",
    "    stopwords_string = str(stopword_content, \"utf-8\")\n",
    "\n",
    "    reader = csv.reader(stopwords_string.split(\"\\n\"))\n",
    "    for row in reader:\n",
    "        if not row or row == ['stopword']:\n",
    "            continue\n",
    "        stopwords.append(row[0])\n",
    "\n",
    "    stopwords.extend(en_stopwords)\n",
    "\n",
    "    refresh_input_details()\n",
    "\n",
    "def start_input_processing(event_source):\n",
    "\n",
    "    disable_input(True)\n",
    "\n",
    "    data_widget.clear_output()\n",
    "\n",
    "    with data_widget:\n",
    "        print(\"tokenizing input data...\")\n",
    "\n",
    "    start_date = selection_range_slider.value[0]\n",
    "    end_date = selection_range_slider.value[1] + pd.DateOffset(months=1) - pd.Timedelta(seconds=1)\n",
    "\n",
    "    filtered_df = get_filtered_df(start_date=start_date, end_date=end_date)\n",
    "\n",
    "    data_widget.clear_output()\n",
    "\n",
    "    with data_widget:\n",
    "\n",
    "        display(filtered_df)\n",
    "\n",
    "    disable_input(False)\n",
    "\n",
    "def set_preview_source(event):\n",
    "    file_name = text_preview_select_widget.value\n",
    "    if file_name not in all_uploaded_files.keys():\n",
    "        return\n",
    "\n",
    "    content_bytes = all_uploaded_files[file_name][\"content\"]\n",
    "    content = ' ' + str(content_bytes, 'utf-8').replace('\\n', ' ') + ' '\n",
    "\n",
    "    preview_processing_pipeline.set_source(content)\n",
    "\n",
    "def execute_preview(source):\n",
    "    preview_processing_pipeline.process()\n"
   ]
  },
  {
   "cell_type": "code",
   "execution_count": 5,
   "metadata": {
    "jupyter_dashboards": {
     "version": 1,
     "views": {
      "grid_default": {
       "col": 0,
       "height": 2,
       "hidden": false,
       "row": 0,
       "width": 12
      },
      "report_default": {
       "hidden": false
      }
     }
    },
    "pycharm": {
     "name": "#%%\n"
    }
   },
   "outputs": [
    {
     "data": {
      "application/vnd.jupyter.widget-view+json": {
       "model_id": "a1bdd1b614ff4aeb924766b1ce38801f",
       "version_major": 2,
       "version_minor": 0
      },
      "text/plain": [
       "HTML(value='<h2>Upload input data</h2>')"
      ]
     },
     "metadata": {},
     "output_type": "display_data"
    },
    {
     "data": {
      "application/vnd.jupyter.widget-view+json": {
       "model_id": "6dd6b882903b422f9499883e2d4b700b",
       "version_major": 2,
       "version_minor": 0
      },
      "text/plain": [
       "Output()"
      ]
     },
     "metadata": {},
     "output_type": "display_data"
    },
    {
     "data": {
      "text/html": [
       "<pre style=\"white-space:pre;overflow-x:auto;line-height:normal;font-family:Menlo,'DejaVu Sans Mono',consolas,'Courier New',monospace\">Empty DataFrame\n",
       "Columns: <span style=\"font-weight: bold\">[</span>date<span style=\"font-weight: bold\">]</span>\n",
       "Index: <span style=\"font-weight: bold\">[]</span>\n",
       "</pre>\n"
      ],
      "text/plain": [
       "<rich.jupyter.JupyterRenderable at 0x7f186867ae20>"
      ]
     },
     "metadata": {},
     "output_type": "display_data"
    },
    {
     "data": {
      "text/html": [
       "<pre style=\"white-space:pre;overflow-x:auto;line-height:normal;font-family:Menlo,'DejaVu Sans Mono',consolas,'Courier New',monospace\"><span style=\"color: #000080; font-weight: bold\">2020</span>-<span style=\"color: #000080; font-weight: bold\">12</span>-<span style=\"color: #000080; font-weight: bold\">23</span> <span style=\"color: #00ff00; font-weight: bold\">13:48:19</span>.<span style=\"color: #000080; font-weight: bold\">829294</span>\n",
       "</pre>\n"
      ],
      "text/plain": [
       "<rich.jupyter.JupyterRenderable at 0x7f186867a940>"
      ]
     },
     "metadata": {},
     "output_type": "display_data"
    },
    {
     "data": {
      "text/html": [
       "<pre style=\"white-space:pre;overflow-x:auto;line-height:normal;font-family:Menlo,'DejaVu Sans Mono',consolas,'Courier New',monospace\"><span style=\"color: #000080; font-weight: bold\">2021</span>-<span style=\"color: #000080; font-weight: bold\">01</span>-<span style=\"color: #000080; font-weight: bold\">23</span> <span style=\"color: #00ff00; font-weight: bold\">13:48:18</span>.<span style=\"color: #000080; font-weight: bold\">829312</span>\n",
       "</pre>\n"
      ],
      "text/plain": [
       "<rich.jupyter.JupyterRenderable at 0x7f186867a910>"
      ]
     },
     "metadata": {},
     "output_type": "display_data"
    },
    {
     "data": {
      "text/html": [
       "<pre style=\"white-space:pre;overflow-x:auto;line-height:normal;font-family:Menlo,'DejaVu Sans Mono',consolas,'Courier New',monospace\">Empty DataFrame\n",
       "Columns: <span style=\"font-weight: bold\">[</span>date<span style=\"font-weight: bold\">]</span>\n",
       "Index: <span style=\"font-weight: bold\">[]</span>\n",
       "</pre>\n"
      ],
      "text/plain": [
       "<rich.jupyter.JupyterRenderable at 0x7f186867ab50>"
      ]
     },
     "metadata": {},
     "output_type": "display_data"
    }
   ],
   "source": [
    "upload_data.observe(input_file_change_handler, names=['value'])\n",
    "upload_stopword.observe(stopwords_input_change_handler, names=['value'])\n",
    "\n",
    "with input_widgets:\n",
    "    print(\"Input data (text files)\")\n",
    "    display(upload_data)\n",
    "    print(\"Stopword (csv format)\")\n",
    "    display(upload_stopword)\n",
    "\n",
    "display(widgets.HTML(\"<h2>Upload input data</h2>\"))\n",
    "display(input_widgets)\n",
    "refresh_input_details()"
   ]
  },
  {
   "cell_type": "code",
   "execution_count": 6,
   "metadata": {
    "collapsed": false,
    "jupyter": {
     "outputs_hidden": false
    },
    "jupyter_dashboards": {
     "version": 1,
     "views": {
      "grid_default": {
       "col": 1,
       "height": 15,
       "hidden": false,
       "row": 0,
       "width": 4
      },
      "report_default": {}
     }
    },
    "pycharm": {
     "name": "#%%\n"
    }
   },
   "outputs": [
    {
     "data": {
      "application/vnd.jupyter.widget-view+json": {
       "model_id": "930947c2b2f546b8b2eb4dc48e36bdf4",
       "version_major": 2,
       "version_minor": 0
      },
      "text/plain": [
       "HTML(value='<h2>Input details</h2>')"
      ]
     },
     "metadata": {},
     "output_type": "display_data"
    },
    {
     "data": {
      "application/vnd.jupyter.widget-view+json": {
       "model_id": "638b5aaff8b945c3bf4882e343e4a033",
       "version_major": 2,
       "version_minor": 0
      },
      "text/plain": [
       "Output()"
      ]
     },
     "metadata": {},
     "output_type": "display_data"
    }
   ],
   "source": [
    "text_preview_select_widget.observe(set_preview_source)\n",
    "selection_range_slider.observe(date_range_change_handler, names=['value'])\n",
    "preview_button.on_click(execute_preview)\n",
    "display(widgets.HTML(\"<h2>Input details</h2>\"))\n",
    "display(input_details_widget)\n",
    "start_input_processing_button.on_click(start_input_processing)"
   ]
  },
  {
   "cell_type": "code",
   "execution_count": 7,
   "metadata": {
    "collapsed": false,
    "jupyter": {
     "outputs_hidden": false
    },
    "jupyter_dashboards": {
     "version": 1,
     "views": {
      "grid_default": {
       "col": 0,
       "height": 100,
       "hidden": false,
       "row": 1,
       "width": 8
      },
      "report_default": {}
     }
    },
    "pycharm": {
     "name": "#%%\n"
    }
   },
   "outputs": [
    {
     "data": {
      "application/vnd.jupyter.widget-view+json": {
       "model_id": "750dca3af08240fc926a20c7f165f92a",
       "version_major": 2,
       "version_minor": 0
      },
      "text/plain": [
       "HTML(value='<h2>Data</h2>')"
      ]
     },
     "metadata": {},
     "output_type": "display_data"
    },
    {
     "data": {
      "application/vnd.jupyter.widget-view+json": {
       "model_id": "ab3c51612ba0450f881c0643e245ae83",
       "version_major": 2,
       "version_minor": 0
      },
      "text/plain": [
       "Output()"
      ]
     },
     "metadata": {},
     "output_type": "display_data"
    }
   ],
   "source": [
    "display(widgets.HTML(\"<h2>Data</h2>\"))\n",
    "display(data_widget)\n"
   ]
  }
 ],
 "metadata": {
  "celltoolbar": "Edit Metadata",
  "kernelspec": {
   "display_name": "Python 3",
   "language": "python",
   "name": "python3"
  },
  "language_info": {
   "codemirror_mode": {
    "name": "ipython",
    "version": 3
   },
   "file_extension": ".py",
   "mimetype": "text/x-python",
   "name": "python",
   "nbconvert_exporter": "python",
   "pygments_lexer": "ipython3",
   "version": "3.8.5"
  }
 },
 "nbformat": 4,
 "nbformat_minor": 4
}